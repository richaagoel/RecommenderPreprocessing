{
 "cells": [
  {
   "cell_type": "code",
   "execution_count": 1,
   "metadata": {},
   "outputs": [],
   "source": [
    "import tarfile"
   ]
  },
  {
   "cell_type": "code",
   "execution_count": 2,
   "metadata": {},
   "outputs": [],
   "source": [
    "import json\n",
    "import ast"
   ]
  },
  {
   "cell_type": "code",
   "execution_count": 3,
   "metadata": {},
   "outputs": [],
   "source": [
    "import pandas as pd"
   ]
  },
  {
   "cell_type": "code",
   "execution_count": 4,
   "metadata": {},
   "outputs": [
    {
     "name": "stderr",
     "output_type": "stream",
     "text": [
      "C:\\Users\\Richa\\anaconda3\\lib\\site-packages\\lightfm\\_lightfm_fast.py:9: UserWarning: LightFM was compiled without OpenMP support. Only a single thread will be used.\n",
      "  warnings.warn('LightFM was compiled without OpenMP support. '\n"
     ]
    }
   ],
   "source": [
    "import numpy as np\n",
    "from lightfm import LightFM\n",
    "from lightfm.data import Dataset\n",
    "from lightfm.evaluation import precision_at_k\n",
    "from lightfm.evaluation import auc_score\n",
    "from lightfm.cross_validation import random_train_test_split\n",
    "from scipy.sparse import coo_matrix as sp"
   ]
  },
  {
   "cell_type": "code",
   "execution_count": 5,
   "metadata": {},
   "outputs": [],
   "source": [
    "my_tar = tarfile.open('C:/Users/Richa/Downloads/epinions_data.tar.gz')\n",
    "my_tar.extractall('Gdata')\n",
    "my_tar.close()"
   ]
  },
  {
   "cell_type": "markdown",
   "metadata": {},
   "source": [
    "### Correcting JSON file"
   ]
  },
  {
   "cell_type": "code",
   "execution_count": 6,
   "metadata": {},
   "outputs": [],
   "source": [
    "fr=open(\"C:/Users/Richa/Gdata/epinions_data/epinions.json\")\n",
    "fw=open(\"C:/Users/Richa/Gdata/epinions_data/epinions1.json\", \"w\")\n",
    "\n",
    "for line in fr:\n",
    "    json_dat = json.dumps(ast.literal_eval(line))\n",
    "    dict_dat = json.loads(json_dat)\n",
    "    json.dump(dict_dat, fw)\n",
    "    fw.write(\"\\n\")\n",
    "\n",
    "fw.close()\n",
    "fr.close()"
   ]
  },
  {
   "cell_type": "code",
   "execution_count": 7,
   "metadata": {},
   "outputs": [
    {
     "data": {
      "text/html": [
       "<div>\n",
       "<style scoped>\n",
       "    .dataframe tbody tr th:only-of-type {\n",
       "        vertical-align: middle;\n",
       "    }\n",
       "\n",
       "    .dataframe tbody tr th {\n",
       "        vertical-align: top;\n",
       "    }\n",
       "\n",
       "    .dataframe thead th {\n",
       "        text-align: right;\n",
       "    }\n",
       "</style>\n",
       "<table border=\"1\" class=\"dataframe\">\n",
       "  <thead>\n",
       "    <tr style=\"text-align: right;\">\n",
       "      <th></th>\n",
       "      <th>user</th>\n",
       "      <th>stars</th>\n",
       "      <th>time</th>\n",
       "      <th>paid</th>\n",
       "      <th>item</th>\n",
       "      <th>review</th>\n",
       "    </tr>\n",
       "  </thead>\n",
       "  <tbody>\n",
       "    <tr>\n",
       "      <th>0</th>\n",
       "      <td>fgb59h</td>\n",
       "      <td>4.0</td>\n",
       "      <td>1027296000</td>\n",
       "      <td>260</td>\n",
       "      <td>Minolta_QMS_PagePro_1250E_Printers</td>\n",
       "      <td>i got this printer from minolta as a warranty ...</td>\n",
       "    </tr>\n",
       "    <tr>\n",
       "      <th>1</th>\n",
       "      <td>bucho_ky</td>\n",
       "      <td>2.0</td>\n",
       "      <td>1201305600</td>\n",
       "      <td>1800</td>\n",
       "      <td>Sony_VAIO_PCG_K45_P4_538_3_2GHz_1MB_L2_533MHz_...</td>\n",
       "      <td>although i love my vaio especially the gorgeou...</td>\n",
       "    </tr>\n",
       "    <tr>\n",
       "      <th>2</th>\n",
       "      <td>redp944</td>\n",
       "      <td>4.0</td>\n",
       "      <td>1118016000</td>\n",
       "      <td>1000</td>\n",
       "      <td>Sony_VAIO_PCG_K45_P4_538_3_2GHz_1MB_L2_533MHz_...</td>\n",
       "      <td>this is my first laptop and i bought it about ...</td>\n",
       "    </tr>\n",
       "    <tr>\n",
       "      <th>3</th>\n",
       "      <td>spongebag7</td>\n",
       "      <td>4.0</td>\n",
       "      <td>1149292800</td>\n",
       "      <td>20</td>\n",
       "      <td>pr-Durabrand_CD-85_Personal_CD_Player</td>\n",
       "      <td>just recently my sony dej001 walkman died on m...</td>\n",
       "    </tr>\n",
       "    <tr>\n",
       "      <th>4</th>\n",
       "      <td>pyros7</td>\n",
       "      <td>5.0</td>\n",
       "      <td>1012262400</td>\n",
       "      <td>1199</td>\n",
       "      <td>pr-Sony_KV_36FS12__Standard_Televisions</td>\n",
       "      <td>well when i graduated from college it didnt ta...</td>\n",
       "    </tr>\n",
       "    <tr>\n",
       "      <th>...</th>\n",
       "      <td>...</td>\n",
       "      <td>...</td>\n",
       "      <td>...</td>\n",
       "      <td>...</td>\n",
       "      <td>...</td>\n",
       "      <td>...</td>\n",
       "    </tr>\n",
       "    <tr>\n",
       "      <th>188473</th>\n",
       "      <td>chris_baehr</td>\n",
       "      <td>2.0</td>\n",
       "      <td>1012608000</td>\n",
       "      <td>100000</td>\n",
       "      <td>auto_Make-2002_Ford_Thunderbird</td>\n",
       "      <td>ford has once again tried to bring back the th...</td>\n",
       "    </tr>\n",
       "    <tr>\n",
       "      <th>188474</th>\n",
       "      <td>BrianCam</td>\n",
       "      <td>4.0</td>\n",
       "      <td>1016409600</td>\n",
       "      <td>44000</td>\n",
       "      <td>auto_Make-2002_Ford_Thunderbird</td>\n",
       "      <td>ford thunderbird the name alone says so much a...</td>\n",
       "    </tr>\n",
       "    <tr>\n",
       "      <th>188475</th>\n",
       "      <td>lanh</td>\n",
       "      <td>1.0</td>\n",
       "      <td>1051747200</td>\n",
       "      <td>41000</td>\n",
       "      <td>auto_Make-2002_Ford_Thunderbird</td>\n",
       "      <td>price is very high per features offered when y...</td>\n",
       "    </tr>\n",
       "    <tr>\n",
       "      <th>188476</th>\n",
       "      <td>spdster2002</td>\n",
       "      <td>5.0</td>\n",
       "      <td>1029974400</td>\n",
       "      <td>42155</td>\n",
       "      <td>auto_Make-2002_Ford_Thunderbird</td>\n",
       "      <td>after a 5year break ford finally restores its ...</td>\n",
       "    </tr>\n",
       "    <tr>\n",
       "      <th>188477</th>\n",
       "      <td>nylaphx</td>\n",
       "      <td>5.0</td>\n",
       "      <td>1274227200</td>\n",
       "      <td>38000</td>\n",
       "      <td>auto_Make-2002_Ford_Thunderbird</td>\n",
       "      <td>whats the best way to find out if you really l...</td>\n",
       "    </tr>\n",
       "  </tbody>\n",
       "</table>\n",
       "<p>188478 rows × 6 columns</p>\n",
       "</div>"
      ],
      "text/plain": [
       "               user  stars        time    paid  \\\n",
       "0            fgb59h    4.0  1027296000     260   \n",
       "1          bucho_ky    2.0  1201305600    1800   \n",
       "2           redp944    4.0  1118016000    1000   \n",
       "3        spongebag7    4.0  1149292800      20   \n",
       "4            pyros7    5.0  1012262400    1199   \n",
       "...             ...    ...         ...     ...   \n",
       "188473  chris_baehr    2.0  1012608000  100000   \n",
       "188474     BrianCam    4.0  1016409600   44000   \n",
       "188475         lanh    1.0  1051747200   41000   \n",
       "188476  spdster2002    5.0  1029974400   42155   \n",
       "188477      nylaphx    5.0  1274227200   38000   \n",
       "\n",
       "                                                     item  \\\n",
       "0                      Minolta_QMS_PagePro_1250E_Printers   \n",
       "1       Sony_VAIO_PCG_K45_P4_538_3_2GHz_1MB_L2_533MHz_...   \n",
       "2       Sony_VAIO_PCG_K45_P4_538_3_2GHz_1MB_L2_533MHz_...   \n",
       "3                   pr-Durabrand_CD-85_Personal_CD_Player   \n",
       "4                 pr-Sony_KV_36FS12__Standard_Televisions   \n",
       "...                                                   ...   \n",
       "188473                    auto_Make-2002_Ford_Thunderbird   \n",
       "188474                    auto_Make-2002_Ford_Thunderbird   \n",
       "188475                    auto_Make-2002_Ford_Thunderbird   \n",
       "188476                    auto_Make-2002_Ford_Thunderbird   \n",
       "188477                    auto_Make-2002_Ford_Thunderbird   \n",
       "\n",
       "                                                   review  \n",
       "0       i got this printer from minolta as a warranty ...  \n",
       "1       although i love my vaio especially the gorgeou...  \n",
       "2       this is my first laptop and i bought it about ...  \n",
       "3       just recently my sony dej001 walkman died on m...  \n",
       "4       well when i graduated from college it didnt ta...  \n",
       "...                                                   ...  \n",
       "188473  ford has once again tried to bring back the th...  \n",
       "188474  ford thunderbird the name alone says so much a...  \n",
       "188475  price is very high per features offered when y...  \n",
       "188476  after a 5year break ford finally restores its ...  \n",
       "188477  whats the best way to find out if you really l...  \n",
       "\n",
       "[188478 rows x 6 columns]"
      ]
     },
     "execution_count": 7,
     "metadata": {},
     "output_type": "execute_result"
    }
   ],
   "source": [
    "with open('C:/Users/Richa/Gdata/epinions_data/epinions1.json') as json_file:\n",
    "    data = json_file.readlines()\n",
    "    data = list(map(json.loads, data))\n",
    "epi=pd.DataFrame(data)\n",
    "epi"
   ]
  },
  {
   "cell_type": "code",
   "execution_count": 8,
   "metadata": {},
   "outputs": [],
   "source": [
    "epi.to_csv('C:/Users/Richa/Gdata/epinions_data/epinions2.csv')"
   ]
  },
  {
   "cell_type": "code",
   "execution_count": 9,
   "metadata": {},
   "outputs": [],
   "source": [
    "general=pd.read_csv('C:/Users/Richa/Gdata/epinions_data/epinions2.csv')"
   ]
  },
  {
   "cell_type": "code",
   "execution_count": 10,
   "metadata": {},
   "outputs": [
    {
     "data": {
      "text/html": [
       "<div>\n",
       "<style scoped>\n",
       "    .dataframe tbody tr th:only-of-type {\n",
       "        vertical-align: middle;\n",
       "    }\n",
       "\n",
       "    .dataframe tbody tr th {\n",
       "        vertical-align: top;\n",
       "    }\n",
       "\n",
       "    .dataframe thead th {\n",
       "        text-align: right;\n",
       "    }\n",
       "</style>\n",
       "<table border=\"1\" class=\"dataframe\">\n",
       "  <thead>\n",
       "    <tr style=\"text-align: right;\">\n",
       "      <th></th>\n",
       "      <th>Unnamed: 0</th>\n",
       "      <th>user</th>\n",
       "      <th>stars</th>\n",
       "      <th>time</th>\n",
       "      <th>paid</th>\n",
       "      <th>item</th>\n",
       "      <th>review</th>\n",
       "    </tr>\n",
       "  </thead>\n",
       "  <tbody>\n",
       "    <tr>\n",
       "      <th>0</th>\n",
       "      <td>0</td>\n",
       "      <td>fgb59h</td>\n",
       "      <td>4.0</td>\n",
       "      <td>1027296000</td>\n",
       "      <td>260.0</td>\n",
       "      <td>Minolta_QMS_PagePro_1250E_Printers</td>\n",
       "      <td>i got this printer from minolta as a warranty ...</td>\n",
       "    </tr>\n",
       "    <tr>\n",
       "      <th>1</th>\n",
       "      <td>1</td>\n",
       "      <td>bucho_ky</td>\n",
       "      <td>2.0</td>\n",
       "      <td>1201305600</td>\n",
       "      <td>1800.0</td>\n",
       "      <td>Sony_VAIO_PCG_K45_P4_538_3_2GHz_1MB_L2_533MHz_...</td>\n",
       "      <td>although i love my vaio especially the gorgeou...</td>\n",
       "    </tr>\n",
       "    <tr>\n",
       "      <th>2</th>\n",
       "      <td>2</td>\n",
       "      <td>redp944</td>\n",
       "      <td>4.0</td>\n",
       "      <td>1118016000</td>\n",
       "      <td>1000.0</td>\n",
       "      <td>Sony_VAIO_PCG_K45_P4_538_3_2GHz_1MB_L2_533MHz_...</td>\n",
       "      <td>this is my first laptop and i bought it about ...</td>\n",
       "    </tr>\n",
       "    <tr>\n",
       "      <th>3</th>\n",
       "      <td>3</td>\n",
       "      <td>spongebag7</td>\n",
       "      <td>4.0</td>\n",
       "      <td>1149292800</td>\n",
       "      <td>20.0</td>\n",
       "      <td>pr-Durabrand_CD-85_Personal_CD_Player</td>\n",
       "      <td>just recently my sony dej001 walkman died on m...</td>\n",
       "    </tr>\n",
       "    <tr>\n",
       "      <th>4</th>\n",
       "      <td>4</td>\n",
       "      <td>pyros7</td>\n",
       "      <td>5.0</td>\n",
       "      <td>1012262400</td>\n",
       "      <td>1199.0</td>\n",
       "      <td>pr-Sony_KV_36FS12__Standard_Televisions</td>\n",
       "      <td>well when i graduated from college it didnt ta...</td>\n",
       "    </tr>\n",
       "  </tbody>\n",
       "</table>\n",
       "</div>"
      ],
      "text/plain": [
       "   Unnamed: 0        user  stars        time    paid  \\\n",
       "0           0      fgb59h    4.0  1027296000   260.0   \n",
       "1           1    bucho_ky    2.0  1201305600  1800.0   \n",
       "2           2     redp944    4.0  1118016000  1000.0   \n",
       "3           3  spongebag7    4.0  1149292800    20.0   \n",
       "4           4      pyros7    5.0  1012262400  1199.0   \n",
       "\n",
       "                                                item  \\\n",
       "0                 Minolta_QMS_PagePro_1250E_Printers   \n",
       "1  Sony_VAIO_PCG_K45_P4_538_3_2GHz_1MB_L2_533MHz_...   \n",
       "2  Sony_VAIO_PCG_K45_P4_538_3_2GHz_1MB_L2_533MHz_...   \n",
       "3              pr-Durabrand_CD-85_Personal_CD_Player   \n",
       "4            pr-Sony_KV_36FS12__Standard_Televisions   \n",
       "\n",
       "                                              review  \n",
       "0  i got this printer from minolta as a warranty ...  \n",
       "1  although i love my vaio especially the gorgeou...  \n",
       "2  this is my first laptop and i bought it about ...  \n",
       "3  just recently my sony dej001 walkman died on m...  \n",
       "4  well when i graduated from college it didnt ta...  "
      ]
     },
     "execution_count": 10,
     "metadata": {},
     "output_type": "execute_result"
    }
   ],
   "source": [
    "general.head()"
   ]
  },
  {
   "cell_type": "code",
   "execution_count": 11,
   "metadata": {},
   "outputs": [
    {
     "data": {
      "text/html": [
       "<div>\n",
       "<style scoped>\n",
       "    .dataframe tbody tr th:only-of-type {\n",
       "        vertical-align: middle;\n",
       "    }\n",
       "\n",
       "    .dataframe tbody tr th {\n",
       "        vertical-align: top;\n",
       "    }\n",
       "\n",
       "    .dataframe thead th {\n",
       "        text-align: right;\n",
       "    }\n",
       "</style>\n",
       "<table border=\"1\" class=\"dataframe\">\n",
       "  <thead>\n",
       "    <tr style=\"text-align: right;\">\n",
       "      <th></th>\n",
       "      <th>user</th>\n",
       "      <th>stars</th>\n",
       "      <th>item</th>\n",
       "    </tr>\n",
       "  </thead>\n",
       "  <tbody>\n",
       "    <tr>\n",
       "      <th>0</th>\n",
       "      <td>fgb59h</td>\n",
       "      <td>4.0</td>\n",
       "      <td>Minolta_QMS_PagePro_1250E_Printers</td>\n",
       "    </tr>\n",
       "    <tr>\n",
       "      <th>1</th>\n",
       "      <td>bucho_ky</td>\n",
       "      <td>2.0</td>\n",
       "      <td>Sony_VAIO_PCG_K45_P4_538_3_2GHz_1MB_L2_533MHz_...</td>\n",
       "    </tr>\n",
       "    <tr>\n",
       "      <th>2</th>\n",
       "      <td>redp944</td>\n",
       "      <td>4.0</td>\n",
       "      <td>Sony_VAIO_PCG_K45_P4_538_3_2GHz_1MB_L2_533MHz_...</td>\n",
       "    </tr>\n",
       "    <tr>\n",
       "      <th>3</th>\n",
       "      <td>spongebag7</td>\n",
       "      <td>4.0</td>\n",
       "      <td>pr-Durabrand_CD-85_Personal_CD_Player</td>\n",
       "    </tr>\n",
       "    <tr>\n",
       "      <th>4</th>\n",
       "      <td>pyros7</td>\n",
       "      <td>5.0</td>\n",
       "      <td>pr-Sony_KV_36FS12__Standard_Televisions</td>\n",
       "    </tr>\n",
       "  </tbody>\n",
       "</table>\n",
       "</div>"
      ],
      "text/plain": [
       "         user  stars                                               item\n",
       "0      fgb59h    4.0                 Minolta_QMS_PagePro_1250E_Printers\n",
       "1    bucho_ky    2.0  Sony_VAIO_PCG_K45_P4_538_3_2GHz_1MB_L2_533MHz_...\n",
       "2     redp944    4.0  Sony_VAIO_PCG_K45_P4_538_3_2GHz_1MB_L2_533MHz_...\n",
       "3  spongebag7    4.0              pr-Durabrand_CD-85_Personal_CD_Player\n",
       "4      pyros7    5.0            pr-Sony_KV_36FS12__Standard_Televisions"
      ]
     },
     "execution_count": 11,
     "metadata": {},
     "output_type": "execute_result"
    }
   ],
   "source": [
    "general=general.drop(['Unnamed: 0','time','paid','review'],axis=1)\n",
    "general.head()"
   ]
  },
  {
   "cell_type": "markdown",
   "metadata": {},
   "source": [
    "### Correcting Group dataset"
   ]
  },
  {
   "cell_type": "code",
   "execution_count": 12,
   "metadata": {},
   "outputs": [],
   "source": [
    "gen1=pd.read_csv('C:/Users/Richa/Gdata/epinions_data/network_trust.txt',header=None)"
   ]
  },
  {
   "cell_type": "code",
   "execution_count": 13,
   "metadata": {},
   "outputs": [],
   "source": [
    "gen2=pd.read_csv('C:/Users/Richa/Gdata/epinions_data/network_trustedby.txt',header=None)"
   ]
  },
  {
   "cell_type": "code",
   "execution_count": 14,
   "metadata": {},
   "outputs": [],
   "source": [
    "gen1.to_csv('C:/Users/Richa/Gdata/epinions_data/gengroup1.csv')"
   ]
  },
  {
   "cell_type": "code",
   "execution_count": 15,
   "metadata": {},
   "outputs": [],
   "source": [
    "gen2.to_csv('C:/Users/Richa/Gdata/epinions_data/gengroup2.csv')"
   ]
  },
  {
   "cell_type": "code",
   "execution_count": 16,
   "metadata": {},
   "outputs": [],
   "source": [
    "data1=pd.read_csv('C:/Users/Richa/Gdata/epinions_data/gengroup1.csv')"
   ]
  },
  {
   "cell_type": "code",
   "execution_count": 17,
   "metadata": {},
   "outputs": [],
   "source": [
    "data2=pd.read_csv('C:/Users/Richa/Gdata/epinions_data/gengroup2.csv')"
   ]
  },
  {
   "cell_type": "code",
   "execution_count": 18,
   "metadata": {},
   "outputs": [
    {
     "data": {
      "text/plain": [
       "Index(['Unnamed: 0', '0'], dtype='object')"
      ]
     },
     "execution_count": 18,
     "metadata": {},
     "output_type": "execute_result"
    }
   ],
   "source": [
    "data1.columns"
   ]
  },
  {
   "cell_type": "code",
   "execution_count": 19,
   "metadata": {},
   "outputs": [
    {
     "data": {
      "text/plain": [
       "Index(['Unnamed: 0', '0'], dtype='object')"
      ]
     },
     "execution_count": 19,
     "metadata": {},
     "output_type": "execute_result"
    }
   ],
   "source": [
    "data2.columns"
   ]
  },
  {
   "cell_type": "code",
   "execution_count": 20,
   "metadata": {},
   "outputs": [
    {
     "data": {
      "text/plain": [
       "Index(['SNo', 'Groupx'], dtype='object')"
      ]
     },
     "execution_count": 20,
     "metadata": {},
     "output_type": "execute_result"
    }
   ],
   "source": [
    "data1.columns=['SNo','Groupx']\n",
    "data1.columns"
   ]
  },
  {
   "cell_type": "code",
   "execution_count": 21,
   "metadata": {},
   "outputs": [
    {
     "data": {
      "text/plain": [
       "Index(['SNo', 'Groupx'], dtype='object')"
      ]
     },
     "execution_count": 21,
     "metadata": {},
     "output_type": "execute_result"
    }
   ],
   "source": [
    "data2.columns=['SNo','Groupx']\n",
    "data2.columns"
   ]
  },
  {
   "cell_type": "code",
   "execution_count": 22,
   "metadata": {},
   "outputs": [],
   "source": [
    "new1 = data1[\"Groupx\"].str.split(\" \", n = -1, expand = True)"
   ]
  },
  {
   "cell_type": "code",
   "execution_count": 23,
   "metadata": {},
   "outputs": [],
   "source": [
    "new2 = data2[\"Groupx\"].str.split(\" \", n = -1, expand = True)"
   ]
  },
  {
   "cell_type": "code",
   "execution_count": 24,
   "metadata": {},
   "outputs": [
    {
     "data": {
      "text/html": [
       "<div>\n",
       "<style scoped>\n",
       "    .dataframe tbody tr th:only-of-type {\n",
       "        vertical-align: middle;\n",
       "    }\n",
       "\n",
       "    .dataframe tbody tr th {\n",
       "        vertical-align: top;\n",
       "    }\n",
       "\n",
       "    .dataframe thead th {\n",
       "        text-align: right;\n",
       "    }\n",
       "</style>\n",
       "<table border=\"1\" class=\"dataframe\">\n",
       "  <thead>\n",
       "    <tr style=\"text-align: right;\">\n",
       "      <th></th>\n",
       "      <th>user</th>\n",
       "      <th>trust</th>\n",
       "      <th>Group</th>\n",
       "    </tr>\n",
       "  </thead>\n",
       "  <tbody>\n",
       "    <tr>\n",
       "      <th>0</th>\n",
       "      <td>lavenderfruit</td>\n",
       "      <td>trust</td>\n",
       "      <td>kristinafh</td>\n",
       "    </tr>\n",
       "    <tr>\n",
       "      <th>1</th>\n",
       "      <td>shippo225</td>\n",
       "      <td>trust</td>\n",
       "      <td>sallyg8</td>\n",
       "    </tr>\n",
       "    <tr>\n",
       "      <th>2</th>\n",
       "      <td>aryeh7000</td>\n",
       "      <td>trust</td>\n",
       "      <td>liteair</td>\n",
       "    </tr>\n",
       "    <tr>\n",
       "      <th>3</th>\n",
       "      <td>chiquita</td>\n",
       "      <td>trust</td>\n",
       "      <td>magenta321</td>\n",
       "    </tr>\n",
       "    <tr>\n",
       "      <th>4</th>\n",
       "      <td>jeffsullivan</td>\n",
       "      <td>trust</td>\n",
       "      <td>rpllingrock</td>\n",
       "    </tr>\n",
       "  </tbody>\n",
       "</table>\n",
       "</div>"
      ],
      "text/plain": [
       "            user  trust        Group\n",
       "0  lavenderfruit  trust   kristinafh\n",
       "1      shippo225  trust      sallyg8\n",
       "2      aryeh7000  trust      liteair\n",
       "3       chiquita  trust   magenta321\n",
       "4   jeffsullivan  trust  rpllingrock"
      ]
     },
     "execution_count": 24,
     "metadata": {},
     "output_type": "execute_result"
    }
   ],
   "source": [
    "data1[\"user\"]= new1[0]\n",
    "data1[\"trust\"]= new1[1]\n",
    "data1[\"Group\"] = new1[2]\n",
    "data1.drop(columns =[\"Groupx\",\"SNo\"], inplace = True)\n",
    "data1.head()"
   ]
  },
  {
   "cell_type": "code",
   "execution_count": 25,
   "metadata": {},
   "outputs": [
    {
     "data": {
      "text/plain": [
       "user     691895\n",
       "trust    691895\n",
       "Group    691895\n",
       "dtype: int64"
      ]
     },
     "execution_count": 25,
     "metadata": {},
     "output_type": "execute_result"
    }
   ],
   "source": [
    "data1.count()"
   ]
  },
  {
   "cell_type": "code",
   "execution_count": 26,
   "metadata": {},
   "outputs": [
    {
     "data": {
      "text/html": [
       "<div>\n",
       "<style scoped>\n",
       "    .dataframe tbody tr th:only-of-type {\n",
       "        vertical-align: middle;\n",
       "    }\n",
       "\n",
       "    .dataframe tbody tr th {\n",
       "        vertical-align: top;\n",
       "    }\n",
       "\n",
       "    .dataframe thead th {\n",
       "        text-align: right;\n",
       "    }\n",
       "</style>\n",
       "<table border=\"1\" class=\"dataframe\">\n",
       "  <thead>\n",
       "    <tr style=\"text-align: right;\">\n",
       "      <th></th>\n",
       "      <th>Group</th>\n",
       "      <th>trustedby</th>\n",
       "      <th>user</th>\n",
       "    </tr>\n",
       "  </thead>\n",
       "  <tbody>\n",
       "    <tr>\n",
       "      <th>0</th>\n",
       "      <td>lavenderfruit</td>\n",
       "      <td>trustedby</td>\n",
       "      <td>kristinafh</td>\n",
       "    </tr>\n",
       "    <tr>\n",
       "      <th>1</th>\n",
       "      <td>Rosalyce</td>\n",
       "      <td>trustedby</td>\n",
       "      <td>cindee</td>\n",
       "    </tr>\n",
       "    <tr>\n",
       "      <th>2</th>\n",
       "      <td>Sharkie</td>\n",
       "      <td>trustedby</td>\n",
       "      <td>theeye</td>\n",
       "    </tr>\n",
       "    <tr>\n",
       "      <th>3</th>\n",
       "      <td>chiquita</td>\n",
       "      <td>trustedby</td>\n",
       "      <td>magenta321</td>\n",
       "    </tr>\n",
       "    <tr>\n",
       "      <th>4</th>\n",
       "      <td>ValerieG</td>\n",
       "      <td>trustedby</td>\n",
       "      <td>jabbrjwz2</td>\n",
       "    </tr>\n",
       "  </tbody>\n",
       "</table>\n",
       "</div>"
      ],
      "text/plain": [
       "           Group  trustedby        user\n",
       "0  lavenderfruit  trustedby  kristinafh\n",
       "1       Rosalyce  trustedby      cindee\n",
       "2        Sharkie  trustedby      theeye\n",
       "3       chiquita  trustedby  magenta321\n",
       "4       ValerieG  trustedby   jabbrjwz2"
      ]
     },
     "execution_count": 26,
     "metadata": {},
     "output_type": "execute_result"
    }
   ],
   "source": [
    "data2[\"Group\"]= new2[0]\n",
    "data2[\"trustedby\"]= new2[1]\n",
    "data2[\"user\"] = new2[2]\n",
    "data2.drop(columns =[\"Groupx\",\"SNo\"], inplace = True)\n",
    "data2.head()"
   ]
  },
  {
   "cell_type": "code",
   "execution_count": 27,
   "metadata": {},
   "outputs": [
    {
     "data": {
      "text/plain": [
       "Group        691895\n",
       "trustedby    691895\n",
       "user         691895\n",
       "dtype: int64"
      ]
     },
     "execution_count": 27,
     "metadata": {},
     "output_type": "execute_result"
    }
   ],
   "source": [
    "data2.count()"
   ]
  },
  {
   "cell_type": "code",
   "execution_count": 28,
   "metadata": {},
   "outputs": [
    {
     "data": {
      "text/html": [
       "<div>\n",
       "<style scoped>\n",
       "    .dataframe tbody tr th:only-of-type {\n",
       "        vertical-align: middle;\n",
       "    }\n",
       "\n",
       "    .dataframe tbody tr th {\n",
       "        vertical-align: top;\n",
       "    }\n",
       "\n",
       "    .dataframe thead th {\n",
       "        text-align: right;\n",
       "    }\n",
       "</style>\n",
       "<table border=\"1\" class=\"dataframe\">\n",
       "  <thead>\n",
       "    <tr style=\"text-align: right;\">\n",
       "      <th></th>\n",
       "      <th>user</th>\n",
       "      <th>trust</th>\n",
       "      <th>Group</th>\n",
       "      <th>trustedby</th>\n",
       "    </tr>\n",
       "  </thead>\n",
       "  <tbody>\n",
       "    <tr>\n",
       "      <th>0</th>\n",
       "      <td>lavenderfruit</td>\n",
       "      <td>trust</td>\n",
       "      <td>kristinafh</td>\n",
       "      <td>NaN</td>\n",
       "    </tr>\n",
       "    <tr>\n",
       "      <th>1</th>\n",
       "      <td>shippo225</td>\n",
       "      <td>trust</td>\n",
       "      <td>sallyg8</td>\n",
       "      <td>NaN</td>\n",
       "    </tr>\n",
       "    <tr>\n",
       "      <th>2</th>\n",
       "      <td>aryeh7000</td>\n",
       "      <td>trust</td>\n",
       "      <td>liteair</td>\n",
       "      <td>NaN</td>\n",
       "    </tr>\n",
       "    <tr>\n",
       "      <th>3</th>\n",
       "      <td>chiquita</td>\n",
       "      <td>trust</td>\n",
       "      <td>magenta321</td>\n",
       "      <td>NaN</td>\n",
       "    </tr>\n",
       "    <tr>\n",
       "      <th>4</th>\n",
       "      <td>jeffsullivan</td>\n",
       "      <td>trust</td>\n",
       "      <td>rpllingrock</td>\n",
       "      <td>NaN</td>\n",
       "    </tr>\n",
       "  </tbody>\n",
       "</table>\n",
       "</div>"
      ],
      "text/plain": [
       "            user  trust        Group trustedby\n",
       "0  lavenderfruit  trust   kristinafh       NaN\n",
       "1      shippo225  trust      sallyg8       NaN\n",
       "2      aryeh7000  trust      liteair       NaN\n",
       "3       chiquita  trust   magenta321       NaN\n",
       "4   jeffsullivan  trust  rpllingrock       NaN"
      ]
     },
     "execution_count": 28,
     "metadata": {},
     "output_type": "execute_result"
    }
   ],
   "source": [
    "data = pd.concat([data1,data2])\n",
    "data.head()"
   ]
  },
  {
   "cell_type": "code",
   "execution_count": 29,
   "metadata": {},
   "outputs": [
    {
     "data": {
      "text/plain": [
       "user         1383790\n",
       "trust         691895\n",
       "Group        1383790\n",
       "trustedby     691895\n",
       "dtype: int64"
      ]
     },
     "execution_count": 29,
     "metadata": {},
     "output_type": "execute_result"
    }
   ],
   "source": [
    "data.count()"
   ]
  },
  {
   "cell_type": "code",
   "execution_count": 30,
   "metadata": {},
   "outputs": [],
   "source": [
    "data1.to_csv('C:/Users/Richa/Gdata/epinions_data/gengroup1.csv')\n",
    "data2.to_csv('C:/Users/Richa/Gdata/epinions_data/gengroup2.csv')"
   ]
  },
  {
   "cell_type": "code",
   "execution_count": 31,
   "metadata": {},
   "outputs": [],
   "source": [
    "data1=pd.read_csv('C:/Users/Richa/Gdata/epinions_data/gengroup1.csv')\n",
    "data2=pd.read_csv('C:/Users/Richa/Gdata/epinions_data/gengroup2.csv')"
   ]
  },
  {
   "cell_type": "code",
   "execution_count": 32,
   "metadata": {},
   "outputs": [],
   "source": [
    "data=data.drop(['trust','trustedby'],axis=1)"
   ]
  },
  {
   "cell_type": "code",
   "execution_count": 33,
   "metadata": {},
   "outputs": [
    {
     "name": "stdout",
     "output_type": "stream",
     "text": [
      "No of Duplicate Values 224274\n",
      "No of Duplicate Values after cleaning 0\n"
     ]
    }
   ],
   "source": [
    "#removing duplicate values\n",
    "x = data.duplicated().sum()\n",
    "print(\"No of Duplicate Values\", x)\n",
    "data.drop_duplicates(inplace=True)\n",
    "y = data.duplicated().sum()\n",
    "print(\"No of Duplicate Values after cleaning\", y)"
   ]
  },
  {
   "cell_type": "code",
   "execution_count": 34,
   "metadata": {},
   "outputs": [
    {
     "data": {
      "text/plain": [
       "user     1159516\n",
       "Group    1159516\n",
       "dtype: int64"
      ]
     },
     "execution_count": 34,
     "metadata": {},
     "output_type": "execute_result"
    }
   ],
   "source": [
    "data.count()"
   ]
  },
  {
   "cell_type": "code",
   "execution_count": 35,
   "metadata": {},
   "outputs": [],
   "source": [
    "data.to_csv('C:/Users/Richa/Gdata/epinions_data/gengroup.csv')"
   ]
  },
  {
   "cell_type": "code",
   "execution_count": 36,
   "metadata": {},
   "outputs": [],
   "source": [
    "data=pd.read_csv('C:/Users/Richa/Gdata/epinions_data/gengroup.csv')"
   ]
  },
  {
   "cell_type": "code",
   "execution_count": 37,
   "metadata": {},
   "outputs": [
    {
     "data": {
      "text/html": [
       "<div>\n",
       "<style scoped>\n",
       "    .dataframe tbody tr th:only-of-type {\n",
       "        vertical-align: middle;\n",
       "    }\n",
       "\n",
       "    .dataframe tbody tr th {\n",
       "        vertical-align: top;\n",
       "    }\n",
       "\n",
       "    .dataframe thead th {\n",
       "        text-align: right;\n",
       "    }\n",
       "</style>\n",
       "<table border=\"1\" class=\"dataframe\">\n",
       "  <thead>\n",
       "    <tr style=\"text-align: right;\">\n",
       "      <th></th>\n",
       "      <th>Unnamed: 0</th>\n",
       "      <th>user</th>\n",
       "      <th>Group</th>\n",
       "    </tr>\n",
       "  </thead>\n",
       "  <tbody>\n",
       "    <tr>\n",
       "      <th>0</th>\n",
       "      <td>0</td>\n",
       "      <td>lavenderfruit</td>\n",
       "      <td>kristinafh</td>\n",
       "    </tr>\n",
       "    <tr>\n",
       "      <th>1</th>\n",
       "      <td>1</td>\n",
       "      <td>shippo225</td>\n",
       "      <td>sallyg8</td>\n",
       "    </tr>\n",
       "    <tr>\n",
       "      <th>2</th>\n",
       "      <td>2</td>\n",
       "      <td>aryeh7000</td>\n",
       "      <td>liteair</td>\n",
       "    </tr>\n",
       "    <tr>\n",
       "      <th>3</th>\n",
       "      <td>3</td>\n",
       "      <td>chiquita</td>\n",
       "      <td>magenta321</td>\n",
       "    </tr>\n",
       "    <tr>\n",
       "      <th>4</th>\n",
       "      <td>4</td>\n",
       "      <td>jeffsullivan</td>\n",
       "      <td>rpllingrock</td>\n",
       "    </tr>\n",
       "  </tbody>\n",
       "</table>\n",
       "</div>"
      ],
      "text/plain": [
       "   Unnamed: 0           user        Group\n",
       "0           0  lavenderfruit   kristinafh\n",
       "1           1      shippo225      sallyg8\n",
       "2           2      aryeh7000      liteair\n",
       "3           3       chiquita   magenta321\n",
       "4           4   jeffsullivan  rpllingrock"
      ]
     },
     "execution_count": 37,
     "metadata": {},
     "output_type": "execute_result"
    }
   ],
   "source": [
    "data.head()"
   ]
  },
  {
   "cell_type": "code",
   "execution_count": 38,
   "metadata": {},
   "outputs": [
    {
     "data": {
      "text/plain": [
       "Index(['Unnamed: 0', 'user', 'Group'], dtype='object')"
      ]
     },
     "execution_count": 38,
     "metadata": {},
     "output_type": "execute_result"
    }
   ],
   "source": [
    "data.columns"
   ]
  },
  {
   "cell_type": "code",
   "execution_count": 39,
   "metadata": {},
   "outputs": [],
   "source": [
    "data=data.drop(['Unnamed: 0'],axis=1)"
   ]
  },
  {
   "cell_type": "markdown",
   "metadata": {},
   "source": [
    "### Combining Tables"
   ]
  },
  {
   "cell_type": "code",
   "execution_count": 40,
   "metadata": {},
   "outputs": [],
   "source": [
    "combinedTable1=pd.merge(general,data,on='user',how='left')"
   ]
  },
  {
   "cell_type": "code",
   "execution_count": 41,
   "metadata": {},
   "outputs": [
    {
     "data": {
      "text/html": [
       "<div>\n",
       "<style scoped>\n",
       "    .dataframe tbody tr th:only-of-type {\n",
       "        vertical-align: middle;\n",
       "    }\n",
       "\n",
       "    .dataframe tbody tr th {\n",
       "        vertical-align: top;\n",
       "    }\n",
       "\n",
       "    .dataframe thead th {\n",
       "        text-align: right;\n",
       "    }\n",
       "</style>\n",
       "<table border=\"1\" class=\"dataframe\">\n",
       "  <thead>\n",
       "    <tr style=\"text-align: right;\">\n",
       "      <th></th>\n",
       "      <th>user</th>\n",
       "      <th>stars</th>\n",
       "      <th>item</th>\n",
       "      <th>Group</th>\n",
       "    </tr>\n",
       "  </thead>\n",
       "  <tbody>\n",
       "    <tr>\n",
       "      <th>0</th>\n",
       "      <td>fgb59h</td>\n",
       "      <td>4.0</td>\n",
       "      <td>Minolta_QMS_PagePro_1250E_Printers</td>\n",
       "      <td>NaN</td>\n",
       "    </tr>\n",
       "    <tr>\n",
       "      <th>1</th>\n",
       "      <td>bucho_ky</td>\n",
       "      <td>2.0</td>\n",
       "      <td>Sony_VAIO_PCG_K45_P4_538_3_2GHz_1MB_L2_533MHz_...</td>\n",
       "      <td>NaN</td>\n",
       "    </tr>\n",
       "    <tr>\n",
       "      <th>2</th>\n",
       "      <td>redp944</td>\n",
       "      <td>4.0</td>\n",
       "      <td>Sony_VAIO_PCG_K45_P4_538_3_2GHz_1MB_L2_533MHz_...</td>\n",
       "      <td>NaN</td>\n",
       "    </tr>\n",
       "    <tr>\n",
       "      <th>3</th>\n",
       "      <td>spongebag7</td>\n",
       "      <td>4.0</td>\n",
       "      <td>pr-Durabrand_CD-85_Personal_CD_Player</td>\n",
       "      <td>cyndia</td>\n",
       "    </tr>\n",
       "    <tr>\n",
       "      <th>4</th>\n",
       "      <td>spongebag7</td>\n",
       "      <td>4.0</td>\n",
       "      <td>pr-Durabrand_CD-85_Personal_CD_Player</td>\n",
       "      <td>amyk49</td>\n",
       "    </tr>\n",
       "  </tbody>\n",
       "</table>\n",
       "</div>"
      ],
      "text/plain": [
       "         user  stars                                               item  \\\n",
       "0      fgb59h    4.0                 Minolta_QMS_PagePro_1250E_Printers   \n",
       "1    bucho_ky    2.0  Sony_VAIO_PCG_K45_P4_538_3_2GHz_1MB_L2_533MHz_...   \n",
       "2     redp944    4.0  Sony_VAIO_PCG_K45_P4_538_3_2GHz_1MB_L2_533MHz_...   \n",
       "3  spongebag7    4.0              pr-Durabrand_CD-85_Personal_CD_Player   \n",
       "4  spongebag7    4.0              pr-Durabrand_CD-85_Personal_CD_Player   \n",
       "\n",
       "    Group  \n",
       "0     NaN  \n",
       "1     NaN  \n",
       "2     NaN  \n",
       "3  cyndia  \n",
       "4  amyk49  "
      ]
     },
     "execution_count": 41,
     "metadata": {},
     "output_type": "execute_result"
    }
   ],
   "source": [
    "combinedTable1.head()"
   ]
  },
  {
   "cell_type": "code",
   "execution_count": 42,
   "metadata": {},
   "outputs": [
    {
     "name": "stdout",
     "output_type": "stream",
     "text": [
      "No of Duplicate Values 2097\n",
      "No of Duplicate Values after cleaning 0\n"
     ]
    }
   ],
   "source": [
    "#removing duplicate values\n",
    "x = combinedTable1.duplicated().sum()\n",
    "print(\"No of Duplicate Values\", x)\n",
    "combinedTable1.drop_duplicates(inplace=True)\n",
    "y = combinedTable1.duplicated().sum()\n",
    "print(\"No of Duplicate Values after cleaning\", y)"
   ]
  },
  {
   "cell_type": "code",
   "execution_count": 43,
   "metadata": {},
   "outputs": [
    {
     "data": {
      "text/plain": [
       "user     2755804\n",
       "stars    2756140\n",
       "item     2756140\n",
       "Group    2622806\n",
       "dtype: int64"
      ]
     },
     "execution_count": 43,
     "metadata": {},
     "output_type": "execute_result"
    }
   ],
   "source": [
    "combinedTable1.count()"
   ]
  },
  {
   "cell_type": "code",
   "execution_count": 44,
   "metadata": {},
   "outputs": [],
   "source": [
    "combinedTable1=combinedTable1.dropna()"
   ]
  },
  {
   "cell_type": "code",
   "execution_count": 45,
   "metadata": {},
   "outputs": [
    {
     "data": {
      "text/plain": [
       "user     2622470\n",
       "stars    2622470\n",
       "item     2622470\n",
       "Group    2622470\n",
       "dtype: int64"
      ]
     },
     "execution_count": 45,
     "metadata": {},
     "output_type": "execute_result"
    }
   ],
   "source": [
    "combinedTable1.count()"
   ]
  },
  {
   "cell_type": "code",
   "execution_count": 46,
   "metadata": {},
   "outputs": [
    {
     "data": {
      "text/html": [
       "<div>\n",
       "<style scoped>\n",
       "    .dataframe tbody tr th:only-of-type {\n",
       "        vertical-align: middle;\n",
       "    }\n",
       "\n",
       "    .dataframe tbody tr th {\n",
       "        vertical-align: top;\n",
       "    }\n",
       "\n",
       "    .dataframe thead th {\n",
       "        text-align: right;\n",
       "    }\n",
       "</style>\n",
       "<table border=\"1\" class=\"dataframe\">\n",
       "  <thead>\n",
       "    <tr style=\"text-align: right;\">\n",
       "      <th></th>\n",
       "      <th>user</th>\n",
       "      <th>stars</th>\n",
       "      <th>item</th>\n",
       "      <th>Group</th>\n",
       "    </tr>\n",
       "  </thead>\n",
       "  <tbody>\n",
       "    <tr>\n",
       "      <th>3</th>\n",
       "      <td>spongebag7</td>\n",
       "      <td>4.0</td>\n",
       "      <td>pr-Durabrand_CD-85_Personal_CD_Player</td>\n",
       "      <td>cyndia</td>\n",
       "    </tr>\n",
       "    <tr>\n",
       "      <th>4</th>\n",
       "      <td>spongebag7</td>\n",
       "      <td>4.0</td>\n",
       "      <td>pr-Durabrand_CD-85_Personal_CD_Player</td>\n",
       "      <td>amyk49</td>\n",
       "    </tr>\n",
       "    <tr>\n",
       "      <th>5</th>\n",
       "      <td>spongebag7</td>\n",
       "      <td>4.0</td>\n",
       "      <td>pr-Durabrand_CD-85_Personal_CD_Player</td>\n",
       "      <td>rated-r</td>\n",
       "    </tr>\n",
       "    <tr>\n",
       "      <th>6</th>\n",
       "      <td>spongebag7</td>\n",
       "      <td>4.0</td>\n",
       "      <td>pr-Durabrand_CD-85_Personal_CD_Player</td>\n",
       "      <td>trailhound</td>\n",
       "    </tr>\n",
       "    <tr>\n",
       "      <th>7</th>\n",
       "      <td>spongebag7</td>\n",
       "      <td>4.0</td>\n",
       "      <td>pr-Durabrand_CD-85_Personal_CD_Player</td>\n",
       "      <td>megugrrrl</td>\n",
       "    </tr>\n",
       "  </tbody>\n",
       "</table>\n",
       "</div>"
      ],
      "text/plain": [
       "         user  stars                                   item       Group\n",
       "3  spongebag7    4.0  pr-Durabrand_CD-85_Personal_CD_Player      cyndia\n",
       "4  spongebag7    4.0  pr-Durabrand_CD-85_Personal_CD_Player      amyk49\n",
       "5  spongebag7    4.0  pr-Durabrand_CD-85_Personal_CD_Player     rated-r\n",
       "6  spongebag7    4.0  pr-Durabrand_CD-85_Personal_CD_Player  trailhound\n",
       "7  spongebag7    4.0  pr-Durabrand_CD-85_Personal_CD_Player   megugrrrl"
      ]
     },
     "execution_count": 46,
     "metadata": {},
     "output_type": "execute_result"
    }
   ],
   "source": [
    "combinedTable1.head()"
   ]
  },
  {
   "cell_type": "code",
   "execution_count": 47,
   "metadata": {},
   "outputs": [],
   "source": [
    "combinedTable1.to_csv('C:/Users/Richa/Gdata/epinions_data/combinedTable.csv')"
   ]
  },
  {
   "cell_type": "code",
   "execution_count": 48,
   "metadata": {},
   "outputs": [],
   "source": [
    "combinedTable1=pd.read_csv('C:/Users/Richa/Gdata/epinions_data/combinedTable.csv')"
   ]
  },
  {
   "cell_type": "code",
   "execution_count": 49,
   "metadata": {},
   "outputs": [
    {
     "name": "stdout",
     "output_type": "stream",
     "text": [
      "17607 25911 49366\n"
     ]
    }
   ],
   "source": [
    "print(combinedTable1.user.nunique(),combinedTable1.item.nunique(),combinedTable1.Group.nunique())"
   ]
  },
  {
   "cell_type": "code",
   "execution_count": 50,
   "metadata": {},
   "outputs": [],
   "source": [
    "data1=combinedTable1.copy(deep=True)"
   ]
  },
  {
   "cell_type": "markdown",
   "metadata": {},
   "source": [
    "### Prepare the data"
   ]
  },
  {
   "cell_type": "code",
   "execution_count": 51,
   "metadata": {},
   "outputs": [],
   "source": [
    "dataset=Dataset()"
   ]
  },
  {
   "cell_type": "code",
   "execution_count": 52,
   "metadata": {},
   "outputs": [],
   "source": [
    "dataset.fit(data1.user.unique(), data1.item.unique())"
   ]
  },
  {
   "cell_type": "code",
   "execution_count": 53,
   "metadata": {},
   "outputs": [
    {
     "name": "stdout",
     "output_type": "stream",
     "text": [
      "Num users: 17607, num_items 25911.\n"
     ]
    }
   ],
   "source": [
    "num_users, num_items = dataset.interactions_shape()\n",
    "print('Num users: {}, num_items {}.'.format(num_users, num_items))"
   ]
  },
  {
   "cell_type": "code",
   "execution_count": 54,
   "metadata": {},
   "outputs": [],
   "source": [
    "interactions, weights = dataset.build_interactions([tuple(i) for i in data1[['user','item','stars']].values])"
   ]
  },
  {
   "cell_type": "code",
   "execution_count": null,
   "metadata": {},
   "outputs": [],
   "source": []
  }
 ],
 "metadata": {
  "kernelspec": {
   "display_name": "Python 3",
   "language": "python",
   "name": "python3"
  },
  "language_info": {
   "codemirror_mode": {
    "name": "ipython",
    "version": 3
   },
   "file_extension": ".py",
   "mimetype": "text/x-python",
   "name": "python",
   "nbconvert_exporter": "python",
   "pygments_lexer": "ipython3",
   "version": "3.7.6"
  }
 },
 "nbformat": 4,
 "nbformat_minor": 4
}
