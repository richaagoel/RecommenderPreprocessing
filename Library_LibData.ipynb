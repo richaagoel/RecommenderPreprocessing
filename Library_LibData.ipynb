{
 "cells": [
  {
   "cell_type": "code",
   "execution_count": 1,
   "metadata": {},
   "outputs": [],
   "source": [
    "import tarfile"
   ]
  },
  {
   "cell_type": "code",
   "execution_count": 2,
   "metadata": {},
   "outputs": [],
   "source": [
    "import json\n",
    "import ast"
   ]
  },
  {
   "cell_type": "code",
   "execution_count": 3,
   "metadata": {},
   "outputs": [],
   "source": [
    "import pandas as pd"
   ]
  },
  {
   "cell_type": "code",
   "execution_count": 4,
   "metadata": {},
   "outputs": [
    {
     "name": "stderr",
     "output_type": "stream",
     "text": [
      "C:\\Users\\Richa\\anaconda3\\lib\\site-packages\\lightfm\\_lightfm_fast.py:9: UserWarning: LightFM was compiled without OpenMP support. Only a single thread will be used.\n",
      "  warnings.warn('LightFM was compiled without OpenMP support. '\n"
     ]
    }
   ],
   "source": [
    "import numpy as np\n",
    "from lightfm import LightFM\n",
    "from lightfm.data import Dataset\n",
    "from lightfm.evaluation import precision_at_k\n",
    "from lightfm.evaluation import auc_score\n",
    "from lightfm.cross_validation import random_train_test_split\n",
    "from scipy.sparse import coo_matrix as sp"
   ]
  },
  {
   "cell_type": "code",
   "execution_count": 5,
   "metadata": {},
   "outputs": [],
   "source": [
    "my_tar = tarfile.open('C:/Users/Richa/Downloads/lthing_data.tar.gz')\n",
    "my_tar.extractall('Ldata')\n",
    "my_tar.close()"
   ]
  },
  {
   "cell_type": "markdown",
   "metadata": {},
   "source": [
    "### Correcting JSON file"
   ]
  },
  {
   "cell_type": "code",
   "execution_count": 6,
   "metadata": {},
   "outputs": [],
   "source": [
    "fr=open(\"C:/Users/Richa/Ldata/lthing_data/reviews.json\")\n",
    "fw=open(\"C:/Users/Richa/Ldata/lthing_data/reviews1.json\", \"w\")\n",
    "\n",
    "for line in fr:\n",
    "    json_dat = json.dumps(ast.literal_eval(line))\n",
    "    dict_dat = json.loads(json_dat)\n",
    "    json.dump(dict_dat, fw)\n",
    "    fw.write(\"\\n\")\n",
    "\n",
    "fw.close()\n",
    "fr.close()"
   ]
  },
  {
   "cell_type": "code",
   "execution_count": 7,
   "metadata": {},
   "outputs": [
    {
     "data": {
      "text/html": [
       "<div>\n",
       "<style scoped>\n",
       "    .dataframe tbody tr th:only-of-type {\n",
       "        vertical-align: middle;\n",
       "    }\n",
       "\n",
       "    .dataframe tbody tr th {\n",
       "        vertical-align: top;\n",
       "    }\n",
       "\n",
       "    .dataframe thead th {\n",
       "        text-align: right;\n",
       "    }\n",
       "</style>\n",
       "<table border=\"1\" class=\"dataframe\">\n",
       "  <thead>\n",
       "    <tr style=\"text-align: right;\">\n",
       "      <th></th>\n",
       "      <th>work</th>\n",
       "      <th>flags</th>\n",
       "      <th>unixtime</th>\n",
       "      <th>stars</th>\n",
       "      <th>nhelpful</th>\n",
       "      <th>time</th>\n",
       "      <th>comment</th>\n",
       "      <th>user</th>\n",
       "    </tr>\n",
       "  </thead>\n",
       "  <tbody>\n",
       "    <tr>\n",
       "      <th>0</th>\n",
       "      <td>3206242</td>\n",
       "      <td>[]</td>\n",
       "      <td>1.194394e+09</td>\n",
       "      <td>5.0</td>\n",
       "      <td>0</td>\n",
       "      <td>Nov 7, 2007</td>\n",
       "      <td>This a great book for young readers to be intr...</td>\n",
       "      <td>van_stef</td>\n",
       "    </tr>\n",
       "    <tr>\n",
       "      <th>1</th>\n",
       "      <td>12198649</td>\n",
       "      <td>[]</td>\n",
       "      <td>1.333757e+09</td>\n",
       "      <td>5.0</td>\n",
       "      <td>0</td>\n",
       "      <td>Apr 7, 2012</td>\n",
       "      <td>Help Wanted: Tales of On The Job Terror from E...</td>\n",
       "      <td>dwatson2</td>\n",
       "    </tr>\n",
       "    <tr>\n",
       "      <th>2</th>\n",
       "      <td>12533765</td>\n",
       "      <td>[]</td>\n",
       "      <td>1.352938e+09</td>\n",
       "      <td>NaN</td>\n",
       "      <td>0</td>\n",
       "      <td>Nov 15, 2012</td>\n",
       "      <td>Magoon, K. (2012). Fire in the streets. New Yo...</td>\n",
       "      <td>edspicer</td>\n",
       "    </tr>\n",
       "    <tr>\n",
       "      <th>3</th>\n",
       "      <td>12981302</td>\n",
       "      <td>[]</td>\n",
       "      <td>1.364515e+09</td>\n",
       "      <td>4.0</td>\n",
       "      <td>0</td>\n",
       "      <td>Mar 29, 2013</td>\n",
       "      <td>Well, I definitely liked this book better than...</td>\n",
       "      <td>amdrane2</td>\n",
       "    </tr>\n",
       "    <tr>\n",
       "      <th>4</th>\n",
       "      <td>5231009</td>\n",
       "      <td>[]</td>\n",
       "      <td>1.270944e+09</td>\n",
       "      <td>3.0</td>\n",
       "      <td>0</td>\n",
       "      <td>Apr 11, 2010</td>\n",
       "      <td>It's a nice science-fiction thriller with some...</td>\n",
       "      <td>Lila_Gustavus</td>\n",
       "    </tr>\n",
       "    <tr>\n",
       "      <th>...</th>\n",
       "      <td>...</td>\n",
       "      <td>...</td>\n",
       "      <td>...</td>\n",
       "      <td>...</td>\n",
       "      <td>...</td>\n",
       "      <td>...</td>\n",
       "      <td>...</td>\n",
       "      <td>...</td>\n",
       "    </tr>\n",
       "    <tr>\n",
       "      <th>1707065</th>\n",
       "      <td>5377722</td>\n",
       "      <td>[]</td>\n",
       "      <td>1.376438e+09</td>\n",
       "      <td>3.0</td>\n",
       "      <td>0</td>\n",
       "      <td>Aug 14, 2013</td>\n",
       "      <td>Yea, so, this is borderline my type of thing. ...</td>\n",
       "      <td>Jellyn</td>\n",
       "    </tr>\n",
       "    <tr>\n",
       "      <th>1707066</th>\n",
       "      <td>13302111</td>\n",
       "      <td>[]</td>\n",
       "      <td>1.356739e+09</td>\n",
       "      <td>NaN</td>\n",
       "      <td>0</td>\n",
       "      <td>Dec 29, 2012</td>\n",
       "      <td>solito pacco editoriale natalizio di monologhi...</td>\n",
       "      <td>ShanaPat</td>\n",
       "    </tr>\n",
       "    <tr>\n",
       "      <th>1707067</th>\n",
       "      <td>452711</td>\n",
       "      <td>[]</td>\n",
       "      <td>1.220227e+09</td>\n",
       "      <td>4.0</td>\n",
       "      <td>0</td>\n",
       "      <td>Sep 1, 2008</td>\n",
       "      <td>In The Last Dive: A Father and Sons Fatal Desc...</td>\n",
       "      <td>koeniel</td>\n",
       "    </tr>\n",
       "    <tr>\n",
       "      <th>1707068</th>\n",
       "      <td>3109878</td>\n",
       "      <td>[]</td>\n",
       "      <td>1.195690e+09</td>\n",
       "      <td>NaN</td>\n",
       "      <td>2</td>\n",
       "      <td>Nov 22, 2007</td>\n",
       "      <td>The Age of Turbulence by Alan Greenspan\\nA Rev...</td>\n",
       "      <td>Ductor</td>\n",
       "    </tr>\n",
       "    <tr>\n",
       "      <th>1707069</th>\n",
       "      <td>3253</td>\n",
       "      <td>[]</td>\n",
       "      <td>1.220227e+09</td>\n",
       "      <td>NaN</td>\n",
       "      <td>0</td>\n",
       "      <td>Sep 1, 2008</td>\n",
       "      <td>What a fabulous book! The story of a mix up at...</td>\n",
       "      <td>vincent1959</td>\n",
       "    </tr>\n",
       "  </tbody>\n",
       "</table>\n",
       "<p>1707070 rows × 8 columns</p>\n",
       "</div>"
      ],
      "text/plain": [
       "             work flags      unixtime  stars  nhelpful          time  \\\n",
       "0         3206242    []  1.194394e+09    5.0         0   Nov 7, 2007   \n",
       "1        12198649    []  1.333757e+09    5.0         0   Apr 7, 2012   \n",
       "2        12533765    []  1.352938e+09    NaN         0  Nov 15, 2012   \n",
       "3        12981302    []  1.364515e+09    4.0         0  Mar 29, 2013   \n",
       "4         5231009    []  1.270944e+09    3.0         0  Apr 11, 2010   \n",
       "...           ...   ...           ...    ...       ...           ...   \n",
       "1707065   5377722    []  1.376438e+09    3.0         0  Aug 14, 2013   \n",
       "1707066  13302111    []  1.356739e+09    NaN         0  Dec 29, 2012   \n",
       "1707067    452711    []  1.220227e+09    4.0         0   Sep 1, 2008   \n",
       "1707068   3109878    []  1.195690e+09    NaN         2  Nov 22, 2007   \n",
       "1707069      3253    []  1.220227e+09    NaN         0   Sep 1, 2008   \n",
       "\n",
       "                                                   comment           user  \n",
       "0        This a great book for young readers to be intr...       van_stef  \n",
       "1        Help Wanted: Tales of On The Job Terror from E...       dwatson2  \n",
       "2        Magoon, K. (2012). Fire in the streets. New Yo...       edspicer  \n",
       "3        Well, I definitely liked this book better than...       amdrane2  \n",
       "4        It's a nice science-fiction thriller with some...  Lila_Gustavus  \n",
       "...                                                    ...            ...  \n",
       "1707065  Yea, so, this is borderline my type of thing. ...         Jellyn  \n",
       "1707066  solito pacco editoriale natalizio di monologhi...       ShanaPat  \n",
       "1707067  In The Last Dive: A Father and Sons Fatal Desc...        koeniel  \n",
       "1707068  The Age of Turbulence by Alan Greenspan\\nA Rev...         Ductor  \n",
       "1707069  What a fabulous book! The story of a mix up at...    vincent1959  \n",
       "\n",
       "[1707070 rows x 8 columns]"
      ]
     },
     "execution_count": 7,
     "metadata": {},
     "output_type": "execute_result"
    }
   ],
   "source": [
    "with open('C:/Users/Richa/Ldata/lthing_data/reviews1.json') as json_file:\n",
    "    data1 = json_file.readlines()\n",
    "    data1 = list(map(json.loads, data1))\n",
    "Lthing=pd.DataFrame(data1)\n",
    "Lthing"
   ]
  },
  {
   "cell_type": "code",
   "execution_count": 8,
   "metadata": {},
   "outputs": [],
   "source": [
    "Lthing.to_csv('C:/Users/Richa/Ldata/lthing_data/reviews2.csv')"
   ]
  },
  {
   "cell_type": "code",
   "execution_count": 9,
   "metadata": {},
   "outputs": [],
   "source": [
    "library=pd.read_csv('C:/Users/Richa/Ldata/lthing_data/reviews2.csv')"
   ]
  },
  {
   "cell_type": "code",
   "execution_count": 10,
   "metadata": {},
   "outputs": [
    {
     "data": {
      "text/html": [
       "<div>\n",
       "<style scoped>\n",
       "    .dataframe tbody tr th:only-of-type {\n",
       "        vertical-align: middle;\n",
       "    }\n",
       "\n",
       "    .dataframe tbody tr th {\n",
       "        vertical-align: top;\n",
       "    }\n",
       "\n",
       "    .dataframe thead th {\n",
       "        text-align: right;\n",
       "    }\n",
       "</style>\n",
       "<table border=\"1\" class=\"dataframe\">\n",
       "  <thead>\n",
       "    <tr style=\"text-align: right;\">\n",
       "      <th></th>\n",
       "      <th>Unnamed: 0</th>\n",
       "      <th>work</th>\n",
       "      <th>flags</th>\n",
       "      <th>unixtime</th>\n",
       "      <th>stars</th>\n",
       "      <th>nhelpful</th>\n",
       "      <th>time</th>\n",
       "      <th>comment</th>\n",
       "      <th>user</th>\n",
       "    </tr>\n",
       "  </thead>\n",
       "  <tbody>\n",
       "    <tr>\n",
       "      <th>0</th>\n",
       "      <td>0</td>\n",
       "      <td>3206242</td>\n",
       "      <td>[]</td>\n",
       "      <td>1.194394e+09</td>\n",
       "      <td>5.0</td>\n",
       "      <td>0</td>\n",
       "      <td>Nov 7, 2007</td>\n",
       "      <td>This a great book for young readers to be intr...</td>\n",
       "      <td>van_stef</td>\n",
       "    </tr>\n",
       "    <tr>\n",
       "      <th>1</th>\n",
       "      <td>1</td>\n",
       "      <td>12198649</td>\n",
       "      <td>[]</td>\n",
       "      <td>1.333757e+09</td>\n",
       "      <td>5.0</td>\n",
       "      <td>0</td>\n",
       "      <td>Apr 7, 2012</td>\n",
       "      <td>Help Wanted: Tales of On The Job Terror from E...</td>\n",
       "      <td>dwatson2</td>\n",
       "    </tr>\n",
       "    <tr>\n",
       "      <th>2</th>\n",
       "      <td>2</td>\n",
       "      <td>12533765</td>\n",
       "      <td>[]</td>\n",
       "      <td>1.352938e+09</td>\n",
       "      <td>NaN</td>\n",
       "      <td>0</td>\n",
       "      <td>Nov 15, 2012</td>\n",
       "      <td>Magoon, K. (2012). Fire in the streets. New Yo...</td>\n",
       "      <td>edspicer</td>\n",
       "    </tr>\n",
       "    <tr>\n",
       "      <th>3</th>\n",
       "      <td>3</td>\n",
       "      <td>12981302</td>\n",
       "      <td>[]</td>\n",
       "      <td>1.364515e+09</td>\n",
       "      <td>4.0</td>\n",
       "      <td>0</td>\n",
       "      <td>Mar 29, 2013</td>\n",
       "      <td>Well, I definitely liked this book better than...</td>\n",
       "      <td>amdrane2</td>\n",
       "    </tr>\n",
       "    <tr>\n",
       "      <th>4</th>\n",
       "      <td>4</td>\n",
       "      <td>5231009</td>\n",
       "      <td>[]</td>\n",
       "      <td>1.270944e+09</td>\n",
       "      <td>3.0</td>\n",
       "      <td>0</td>\n",
       "      <td>Apr 11, 2010</td>\n",
       "      <td>It's a nice science-fiction thriller with some...</td>\n",
       "      <td>Lila_Gustavus</td>\n",
       "    </tr>\n",
       "  </tbody>\n",
       "</table>\n",
       "</div>"
      ],
      "text/plain": [
       "   Unnamed: 0      work flags      unixtime  stars  nhelpful          time  \\\n",
       "0           0   3206242    []  1.194394e+09    5.0         0   Nov 7, 2007   \n",
       "1           1  12198649    []  1.333757e+09    5.0         0   Apr 7, 2012   \n",
       "2           2  12533765    []  1.352938e+09    NaN         0  Nov 15, 2012   \n",
       "3           3  12981302    []  1.364515e+09    4.0         0  Mar 29, 2013   \n",
       "4           4   5231009    []  1.270944e+09    3.0         0  Apr 11, 2010   \n",
       "\n",
       "                                             comment           user  \n",
       "0  This a great book for young readers to be intr...       van_stef  \n",
       "1  Help Wanted: Tales of On The Job Terror from E...       dwatson2  \n",
       "2  Magoon, K. (2012). Fire in the streets. New Yo...       edspicer  \n",
       "3  Well, I definitely liked this book better than...       amdrane2  \n",
       "4  It's a nice science-fiction thriller with some...  Lila_Gustavus  "
      ]
     },
     "execution_count": 10,
     "metadata": {},
     "output_type": "execute_result"
    }
   ],
   "source": [
    "library.head()"
   ]
  },
  {
   "cell_type": "code",
   "execution_count": 11,
   "metadata": {},
   "outputs": [
    {
     "data": {
      "text/html": [
       "<div>\n",
       "<style scoped>\n",
       "    .dataframe tbody tr th:only-of-type {\n",
       "        vertical-align: middle;\n",
       "    }\n",
       "\n",
       "    .dataframe tbody tr th {\n",
       "        vertical-align: top;\n",
       "    }\n",
       "\n",
       "    .dataframe thead th {\n",
       "        text-align: right;\n",
       "    }\n",
       "</style>\n",
       "<table border=\"1\" class=\"dataframe\">\n",
       "  <thead>\n",
       "    <tr style=\"text-align: right;\">\n",
       "      <th></th>\n",
       "      <th>work</th>\n",
       "      <th>stars</th>\n",
       "      <th>user</th>\n",
       "    </tr>\n",
       "  </thead>\n",
       "  <tbody>\n",
       "    <tr>\n",
       "      <th>0</th>\n",
       "      <td>3206242</td>\n",
       "      <td>5.0</td>\n",
       "      <td>van_stef</td>\n",
       "    </tr>\n",
       "    <tr>\n",
       "      <th>1</th>\n",
       "      <td>12198649</td>\n",
       "      <td>5.0</td>\n",
       "      <td>dwatson2</td>\n",
       "    </tr>\n",
       "    <tr>\n",
       "      <th>2</th>\n",
       "      <td>12533765</td>\n",
       "      <td>NaN</td>\n",
       "      <td>edspicer</td>\n",
       "    </tr>\n",
       "    <tr>\n",
       "      <th>3</th>\n",
       "      <td>12981302</td>\n",
       "      <td>4.0</td>\n",
       "      <td>amdrane2</td>\n",
       "    </tr>\n",
       "    <tr>\n",
       "      <th>4</th>\n",
       "      <td>5231009</td>\n",
       "      <td>3.0</td>\n",
       "      <td>Lila_Gustavus</td>\n",
       "    </tr>\n",
       "  </tbody>\n",
       "</table>\n",
       "</div>"
      ],
      "text/plain": [
       "       work  stars           user\n",
       "0   3206242    5.0       van_stef\n",
       "1  12198649    5.0       dwatson2\n",
       "2  12533765    NaN       edspicer\n",
       "3  12981302    4.0       amdrane2\n",
       "4   5231009    3.0  Lila_Gustavus"
      ]
     },
     "execution_count": 11,
     "metadata": {},
     "output_type": "execute_result"
    }
   ],
   "source": [
    "library=library.drop(['Unnamed: 0','flags','unixtime','nhelpful','time','comment'],axis=1)\n",
    "library.head()"
   ]
  },
  {
   "cell_type": "markdown",
   "metadata": {},
   "source": [
    "### Correcting Group dataset"
   ]
  },
  {
   "cell_type": "code",
   "execution_count": 12,
   "metadata": {},
   "outputs": [],
   "source": [
    "lib=pd.read_csv('C:/Users/Richa/Ldata/lthing_data/edges.txt',header=None)"
   ]
  },
  {
   "cell_type": "code",
   "execution_count": 13,
   "metadata": {},
   "outputs": [],
   "source": [
    "lib.to_csv('C:/Users/Richa/Ldata/lthing_data/libgroup.csv')"
   ]
  },
  {
   "cell_type": "code",
   "execution_count": 14,
   "metadata": {},
   "outputs": [],
   "source": [
    "data_1=pd.read_csv('C:/Users/Richa/Ldata/lthing_data/libgroup.csv')"
   ]
  },
  {
   "cell_type": "code",
   "execution_count": 15,
   "metadata": {},
   "outputs": [
    {
     "data": {
      "text/plain": [
       "Index(['Unnamed: 0', '0'], dtype='object')"
      ]
     },
     "execution_count": 15,
     "metadata": {},
     "output_type": "execute_result"
    }
   ],
   "source": [
    "data_1.columns"
   ]
  },
  {
   "cell_type": "code",
   "execution_count": 16,
   "metadata": {},
   "outputs": [
    {
     "data": {
      "text/plain": [
       "Index(['SNo', 'Groupx'], dtype='object')"
      ]
     },
     "execution_count": 16,
     "metadata": {},
     "output_type": "execute_result"
    }
   ],
   "source": [
    "data_1.columns=['SNo','Groupx']\n",
    "data_1.columns"
   ]
  },
  {
   "cell_type": "code",
   "execution_count": 17,
   "metadata": {},
   "outputs": [],
   "source": [
    "data_2=data_1.copy(deep=True)"
   ]
  },
  {
   "cell_type": "code",
   "execution_count": 18,
   "metadata": {},
   "outputs": [],
   "source": [
    "new_1 = data_1[\"Groupx\"].str.split(\" \", n = -1, expand = True)"
   ]
  },
  {
   "cell_type": "code",
   "execution_count": 19,
   "metadata": {},
   "outputs": [],
   "source": [
    "new_2 = data_2[\"Groupx\"].str.split(\" \", n = -1, expand = True)"
   ]
  },
  {
   "cell_type": "code",
   "execution_count": 20,
   "metadata": {},
   "outputs": [
    {
     "data": {
      "text/html": [
       "<div>\n",
       "<style scoped>\n",
       "    .dataframe tbody tr th:only-of-type {\n",
       "        vertical-align: middle;\n",
       "    }\n",
       "\n",
       "    .dataframe tbody tr th {\n",
       "        vertical-align: top;\n",
       "    }\n",
       "\n",
       "    .dataframe thead th {\n",
       "        text-align: right;\n",
       "    }\n",
       "</style>\n",
       "<table border=\"1\" class=\"dataframe\">\n",
       "  <thead>\n",
       "    <tr style=\"text-align: right;\">\n",
       "      <th></th>\n",
       "      <th>Group</th>\n",
       "      <th>user</th>\n",
       "    </tr>\n",
       "  </thead>\n",
       "  <tbody>\n",
       "    <tr>\n",
       "      <th>0</th>\n",
       "      <td>Rodo</td>\n",
       "      <td>anehan</td>\n",
       "    </tr>\n",
       "    <tr>\n",
       "      <th>1</th>\n",
       "      <td>Rodo</td>\n",
       "      <td>sevilemar</td>\n",
       "    </tr>\n",
       "    <tr>\n",
       "      <th>2</th>\n",
       "      <td>Rodo</td>\n",
       "      <td>dingsi</td>\n",
       "    </tr>\n",
       "    <tr>\n",
       "      <th>3</th>\n",
       "      <td>Rodo</td>\n",
       "      <td>slash</td>\n",
       "    </tr>\n",
       "    <tr>\n",
       "      <th>4</th>\n",
       "      <td>RelaxedReader</td>\n",
       "      <td>AnnRig</td>\n",
       "    </tr>\n",
       "  </tbody>\n",
       "</table>\n",
       "</div>"
      ],
      "text/plain": [
       "           Group       user\n",
       "0           Rodo     anehan\n",
       "1           Rodo  sevilemar\n",
       "2           Rodo     dingsi\n",
       "3           Rodo      slash\n",
       "4  RelaxedReader     AnnRig"
      ]
     },
     "execution_count": 20,
     "metadata": {},
     "output_type": "execute_result"
    }
   ],
   "source": [
    "data_1[\"Group\"]= new_1[0]\n",
    "data_1[\"user\"]= new_1[1]\n",
    "data_1.drop(columns =[\"Groupx\",\"SNo\"], inplace = True)\n",
    "data_1.head()"
   ]
  },
  {
   "cell_type": "code",
   "execution_count": 21,
   "metadata": {},
   "outputs": [
    {
     "data": {
      "text/html": [
       "<div>\n",
       "<style scoped>\n",
       "    .dataframe tbody tr th:only-of-type {\n",
       "        vertical-align: middle;\n",
       "    }\n",
       "\n",
       "    .dataframe tbody tr th {\n",
       "        vertical-align: top;\n",
       "    }\n",
       "\n",
       "    .dataframe thead th {\n",
       "        text-align: right;\n",
       "    }\n",
       "</style>\n",
       "<table border=\"1\" class=\"dataframe\">\n",
       "  <thead>\n",
       "    <tr style=\"text-align: right;\">\n",
       "      <th></th>\n",
       "      <th>user</th>\n",
       "      <th>Group</th>\n",
       "    </tr>\n",
       "  </thead>\n",
       "  <tbody>\n",
       "    <tr>\n",
       "      <th>0</th>\n",
       "      <td>Rodo</td>\n",
       "      <td>anehan</td>\n",
       "    </tr>\n",
       "    <tr>\n",
       "      <th>1</th>\n",
       "      <td>Rodo</td>\n",
       "      <td>sevilemar</td>\n",
       "    </tr>\n",
       "    <tr>\n",
       "      <th>2</th>\n",
       "      <td>Rodo</td>\n",
       "      <td>dingsi</td>\n",
       "    </tr>\n",
       "    <tr>\n",
       "      <th>3</th>\n",
       "      <td>Rodo</td>\n",
       "      <td>slash</td>\n",
       "    </tr>\n",
       "    <tr>\n",
       "      <th>4</th>\n",
       "      <td>RelaxedReader</td>\n",
       "      <td>AnnRig</td>\n",
       "    </tr>\n",
       "  </tbody>\n",
       "</table>\n",
       "</div>"
      ],
      "text/plain": [
       "            user      Group\n",
       "0           Rodo     anehan\n",
       "1           Rodo  sevilemar\n",
       "2           Rodo     dingsi\n",
       "3           Rodo      slash\n",
       "4  RelaxedReader     AnnRig"
      ]
     },
     "execution_count": 21,
     "metadata": {},
     "output_type": "execute_result"
    }
   ],
   "source": [
    "data_2[\"user\"]= new_2[0]\n",
    "data_2[\"Group\"]= new_2[1]\n",
    "data_2.drop(columns =[\"Groupx\",\"SNo\"], inplace = True)\n",
    "data_2.head()"
   ]
  },
  {
   "cell_type": "code",
   "execution_count": 22,
   "metadata": {},
   "outputs": [
    {
     "data": {
      "text/html": [
       "<div>\n",
       "<style scoped>\n",
       "    .dataframe tbody tr th:only-of-type {\n",
       "        vertical-align: middle;\n",
       "    }\n",
       "\n",
       "    .dataframe tbody tr th {\n",
       "        vertical-align: top;\n",
       "    }\n",
       "\n",
       "    .dataframe thead th {\n",
       "        text-align: right;\n",
       "    }\n",
       "</style>\n",
       "<table border=\"1\" class=\"dataframe\">\n",
       "  <thead>\n",
       "    <tr style=\"text-align: right;\">\n",
       "      <th></th>\n",
       "      <th>Group</th>\n",
       "      <th>user</th>\n",
       "    </tr>\n",
       "  </thead>\n",
       "  <tbody>\n",
       "    <tr>\n",
       "      <th>0</th>\n",
       "      <td>Rodo</td>\n",
       "      <td>anehan</td>\n",
       "    </tr>\n",
       "    <tr>\n",
       "      <th>1</th>\n",
       "      <td>Rodo</td>\n",
       "      <td>sevilemar</td>\n",
       "    </tr>\n",
       "    <tr>\n",
       "      <th>2</th>\n",
       "      <td>Rodo</td>\n",
       "      <td>dingsi</td>\n",
       "    </tr>\n",
       "    <tr>\n",
       "      <th>3</th>\n",
       "      <td>Rodo</td>\n",
       "      <td>slash</td>\n",
       "    </tr>\n",
       "    <tr>\n",
       "      <th>4</th>\n",
       "      <td>RelaxedReader</td>\n",
       "      <td>AnnRig</td>\n",
       "    </tr>\n",
       "  </tbody>\n",
       "</table>\n",
       "</div>"
      ],
      "text/plain": [
       "           Group       user\n",
       "0           Rodo     anehan\n",
       "1           Rodo  sevilemar\n",
       "2           Rodo     dingsi\n",
       "3           Rodo      slash\n",
       "4  RelaxedReader     AnnRig"
      ]
     },
     "execution_count": 22,
     "metadata": {},
     "output_type": "execute_result"
    }
   ],
   "source": [
    "data = pd.concat([data_1,data_2])\n",
    "data.head()"
   ]
  },
  {
   "cell_type": "code",
   "execution_count": 23,
   "metadata": {},
   "outputs": [
    {
     "data": {
      "text/plain": [
       "Group    439580\n",
       "user     439580\n",
       "dtype: int64"
      ]
     },
     "execution_count": 23,
     "metadata": {},
     "output_type": "execute_result"
    }
   ],
   "source": [
    "data.count()"
   ]
  },
  {
   "cell_type": "code",
   "execution_count": 24,
   "metadata": {},
   "outputs": [
    {
     "name": "stdout",
     "output_type": "stream",
     "text": [
      "No of Duplicate Values 120394\n",
      "No of Duplicate Values after cleaning 0\n"
     ]
    }
   ],
   "source": [
    "#removing duplicate values\n",
    "x = data.duplicated().sum()\n",
    "print(\"No of Duplicate Values\", x)\n",
    "data.drop_duplicates(inplace=True)\n",
    "y = data.duplicated().sum()\n",
    "print(\"No of Duplicate Values after cleaning\", y)"
   ]
  },
  {
   "cell_type": "code",
   "execution_count": 25,
   "metadata": {},
   "outputs": [
    {
     "data": {
      "text/plain": [
       "Group    319186\n",
       "user     319186\n",
       "dtype: int64"
      ]
     },
     "execution_count": 25,
     "metadata": {},
     "output_type": "execute_result"
    }
   ],
   "source": [
    "data.count()"
   ]
  },
  {
   "cell_type": "code",
   "execution_count": 26,
   "metadata": {},
   "outputs": [],
   "source": [
    "data.to_csv('C:/Users/Richa/Ldata/lthing_data/libgroup.csv')"
   ]
  },
  {
   "cell_type": "code",
   "execution_count": 27,
   "metadata": {},
   "outputs": [
    {
     "data": {
      "text/html": [
       "<div>\n",
       "<style scoped>\n",
       "    .dataframe tbody tr th:only-of-type {\n",
       "        vertical-align: middle;\n",
       "    }\n",
       "\n",
       "    .dataframe tbody tr th {\n",
       "        vertical-align: top;\n",
       "    }\n",
       "\n",
       "    .dataframe thead th {\n",
       "        text-align: right;\n",
       "    }\n",
       "</style>\n",
       "<table border=\"1\" class=\"dataframe\">\n",
       "  <thead>\n",
       "    <tr style=\"text-align: right;\">\n",
       "      <th></th>\n",
       "      <th>Unnamed: 0</th>\n",
       "      <th>Group</th>\n",
       "      <th>user</th>\n",
       "    </tr>\n",
       "  </thead>\n",
       "  <tbody>\n",
       "    <tr>\n",
       "      <th>0</th>\n",
       "      <td>0</td>\n",
       "      <td>Rodo</td>\n",
       "      <td>anehan</td>\n",
       "    </tr>\n",
       "    <tr>\n",
       "      <th>1</th>\n",
       "      <td>1</td>\n",
       "      <td>Rodo</td>\n",
       "      <td>sevilemar</td>\n",
       "    </tr>\n",
       "    <tr>\n",
       "      <th>2</th>\n",
       "      <td>2</td>\n",
       "      <td>Rodo</td>\n",
       "      <td>dingsi</td>\n",
       "    </tr>\n",
       "    <tr>\n",
       "      <th>3</th>\n",
       "      <td>3</td>\n",
       "      <td>Rodo</td>\n",
       "      <td>slash</td>\n",
       "    </tr>\n",
       "    <tr>\n",
       "      <th>4</th>\n",
       "      <td>4</td>\n",
       "      <td>RelaxedReader</td>\n",
       "      <td>AnnRig</td>\n",
       "    </tr>\n",
       "  </tbody>\n",
       "</table>\n",
       "</div>"
      ],
      "text/plain": [
       "   Unnamed: 0          Group       user\n",
       "0           0           Rodo     anehan\n",
       "1           1           Rodo  sevilemar\n",
       "2           2           Rodo     dingsi\n",
       "3           3           Rodo      slash\n",
       "4           4  RelaxedReader     AnnRig"
      ]
     },
     "execution_count": 27,
     "metadata": {},
     "output_type": "execute_result"
    }
   ],
   "source": [
    "data=pd.read_csv('C:/Users/Richa/Ldata/lthing_data/libgroup.csv')\n",
    "data.head()"
   ]
  },
  {
   "cell_type": "code",
   "execution_count": 28,
   "metadata": {},
   "outputs": [],
   "source": [
    "data=data.drop(['Unnamed: 0'],axis=1)"
   ]
  },
  {
   "cell_type": "markdown",
   "metadata": {},
   "source": [
    "### Combining Tables"
   ]
  },
  {
   "cell_type": "code",
   "execution_count": 29,
   "metadata": {},
   "outputs": [],
   "source": [
    "combinedTable1=pd.merge(library,data,on='user',how='left')"
   ]
  },
  {
   "cell_type": "code",
   "execution_count": 30,
   "metadata": {},
   "outputs": [
    {
     "data": {
      "text/html": [
       "<div>\n",
       "<style scoped>\n",
       "    .dataframe tbody tr th:only-of-type {\n",
       "        vertical-align: middle;\n",
       "    }\n",
       "\n",
       "    .dataframe tbody tr th {\n",
       "        vertical-align: top;\n",
       "    }\n",
       "\n",
       "    .dataframe thead th {\n",
       "        text-align: right;\n",
       "    }\n",
       "</style>\n",
       "<table border=\"1\" class=\"dataframe\">\n",
       "  <thead>\n",
       "    <tr style=\"text-align: right;\">\n",
       "      <th></th>\n",
       "      <th>work</th>\n",
       "      <th>stars</th>\n",
       "      <th>user</th>\n",
       "      <th>Group</th>\n",
       "    </tr>\n",
       "  </thead>\n",
       "  <tbody>\n",
       "    <tr>\n",
       "      <th>0</th>\n",
       "      <td>3206242</td>\n",
       "      <td>5.0</td>\n",
       "      <td>van_stef</td>\n",
       "      <td>Mishalak</td>\n",
       "    </tr>\n",
       "    <tr>\n",
       "      <th>1</th>\n",
       "      <td>3206242</td>\n",
       "      <td>5.0</td>\n",
       "      <td>van_stef</td>\n",
       "      <td>davrich</td>\n",
       "    </tr>\n",
       "    <tr>\n",
       "      <th>2</th>\n",
       "      <td>3206242</td>\n",
       "      <td>5.0</td>\n",
       "      <td>van_stef</td>\n",
       "      <td>flemingt</td>\n",
       "    </tr>\n",
       "    <tr>\n",
       "      <th>3</th>\n",
       "      <td>3206242</td>\n",
       "      <td>5.0</td>\n",
       "      <td>van_stef</td>\n",
       "      <td>lisa211</td>\n",
       "    </tr>\n",
       "    <tr>\n",
       "      <th>4</th>\n",
       "      <td>3206242</td>\n",
       "      <td>5.0</td>\n",
       "      <td>van_stef</td>\n",
       "      <td>mouna</td>\n",
       "    </tr>\n",
       "    <tr>\n",
       "      <th>5</th>\n",
       "      <td>3206242</td>\n",
       "      <td>5.0</td>\n",
       "      <td>van_stef</td>\n",
       "      <td>CarolinaCatherine</td>\n",
       "    </tr>\n",
       "    <tr>\n",
       "      <th>6</th>\n",
       "      <td>3206242</td>\n",
       "      <td>5.0</td>\n",
       "      <td>van_stef</td>\n",
       "      <td>E59F</td>\n",
       "    </tr>\n",
       "    <tr>\n",
       "      <th>7</th>\n",
       "      <td>12198649</td>\n",
       "      <td>5.0</td>\n",
       "      <td>dwatson2</td>\n",
       "      <td>Jeff_Carlson</td>\n",
       "    </tr>\n",
       "    <tr>\n",
       "      <th>8</th>\n",
       "      <td>12198649</td>\n",
       "      <td>5.0</td>\n",
       "      <td>dwatson2</td>\n",
       "      <td>leeemerick</td>\n",
       "    </tr>\n",
       "    <tr>\n",
       "      <th>9</th>\n",
       "      <td>12533765</td>\n",
       "      <td>NaN</td>\n",
       "      <td>edspicer</td>\n",
       "      <td>MHSLibrary</td>\n",
       "    </tr>\n",
       "    <tr>\n",
       "      <th>10</th>\n",
       "      <td>12533765</td>\n",
       "      <td>NaN</td>\n",
       "      <td>edspicer</td>\n",
       "      <td>kimby365</td>\n",
       "    </tr>\n",
       "    <tr>\n",
       "      <th>11</th>\n",
       "      <td>12533765</td>\n",
       "      <td>NaN</td>\n",
       "      <td>edspicer</td>\n",
       "      <td>tiamatq</td>\n",
       "    </tr>\n",
       "    <tr>\n",
       "      <th>12</th>\n",
       "      <td>12533765</td>\n",
       "      <td>NaN</td>\n",
       "      <td>edspicer</td>\n",
       "      <td>BetsyFraser</td>\n",
       "    </tr>\n",
       "    <tr>\n",
       "      <th>13</th>\n",
       "      <td>12533765</td>\n",
       "      <td>NaN</td>\n",
       "      <td>edspicer</td>\n",
       "      <td>Eleanor_Henry</td>\n",
       "    </tr>\n",
       "    <tr>\n",
       "      <th>14</th>\n",
       "      <td>12533765</td>\n",
       "      <td>NaN</td>\n",
       "      <td>edspicer</td>\n",
       "      <td>femme</td>\n",
       "    </tr>\n",
       "  </tbody>\n",
       "</table>\n",
       "</div>"
      ],
      "text/plain": [
       "        work  stars      user              Group\n",
       "0    3206242    5.0  van_stef           Mishalak\n",
       "1    3206242    5.0  van_stef            davrich\n",
       "2    3206242    5.0  van_stef           flemingt\n",
       "3    3206242    5.0  van_stef            lisa211\n",
       "4    3206242    5.0  van_stef              mouna\n",
       "5    3206242    5.0  van_stef  CarolinaCatherine\n",
       "6    3206242    5.0  van_stef               E59F\n",
       "7   12198649    5.0  dwatson2       Jeff_Carlson\n",
       "8   12198649    5.0  dwatson2         leeemerick\n",
       "9   12533765    NaN  edspicer         MHSLibrary\n",
       "10  12533765    NaN  edspicer           kimby365\n",
       "11  12533765    NaN  edspicer            tiamatq\n",
       "12  12533765    NaN  edspicer        BetsyFraser\n",
       "13  12533765    NaN  edspicer      Eleanor_Henry\n",
       "14  12533765    NaN  edspicer              femme"
      ]
     },
     "execution_count": 30,
     "metadata": {},
     "output_type": "execute_result"
    }
   ],
   "source": [
    "combinedTable1.head(15)"
   ]
  },
  {
   "cell_type": "code",
   "execution_count": 31,
   "metadata": {},
   "outputs": [
    {
     "name": "stdout",
     "output_type": "stream",
     "text": [
      "No of Duplicate Values 120394\n",
      "No of Duplicate Values after cleaning 0\n"
     ]
    }
   ],
   "source": [
    "#removing duplicate values\n",
    "x1 = combinedTable1.duplicated().sum()\n",
    "print(\"No of Duplicate Values\", x)\n",
    "combinedTable1.drop_duplicates(inplace=True)\n",
    "y1 = combinedTable1.duplicated().sum()\n",
    "print(\"No of Duplicate Values after cleaning\", y)"
   ]
  },
  {
   "cell_type": "code",
   "execution_count": 32,
   "metadata": {},
   "outputs": [
    {
     "data": {
      "text/plain": [
       "work     27942847\n",
       "stars    24100223\n",
       "user     27942756\n",
       "Group    27410835\n",
       "dtype: int64"
      ]
     },
     "execution_count": 32,
     "metadata": {},
     "output_type": "execute_result"
    }
   ],
   "source": [
    "combinedTable1.count()"
   ]
  },
  {
   "cell_type": "code",
   "execution_count": 33,
   "metadata": {},
   "outputs": [],
   "source": [
    "combinedTable1=combinedTable1.dropna()"
   ]
  },
  {
   "cell_type": "code",
   "execution_count": 34,
   "metadata": {},
   "outputs": [
    {
     "data": {
      "text/plain": [
       "work     23706309\n",
       "stars    23706309\n",
       "user     23706309\n",
       "Group    23706309\n",
       "dtype: int64"
      ]
     },
     "execution_count": 34,
     "metadata": {},
     "output_type": "execute_result"
    }
   ],
   "source": [
    "combinedTable1.count()"
   ]
  },
  {
   "cell_type": "code",
   "execution_count": 35,
   "metadata": {},
   "outputs": [],
   "source": [
    "combinedTable1.to_csv('C:/Users/Richa/Ldata/lthing_data/combinedTable.csv')"
   ]
  },
  {
   "cell_type": "code",
   "execution_count": 36,
   "metadata": {},
   "outputs": [],
   "source": [
    "combinedTable1=pd.read_csv('C:/Users/Richa/Ldata/lthing_data/combinedTable.csv')"
   ]
  },
  {
   "cell_type": "code",
   "execution_count": 37,
   "metadata": {},
   "outputs": [],
   "source": [
    "data1=combinedTable1.copy(deep=True)"
   ]
  },
  {
   "cell_type": "markdown",
   "metadata": {},
   "source": [
    "### Prepare the data"
   ]
  },
  {
   "cell_type": "code",
   "execution_count": 38,
   "metadata": {},
   "outputs": [],
   "source": [
    "dataset=Dataset()"
   ]
  },
  {
   "cell_type": "code",
   "execution_count": 40,
   "metadata": {},
   "outputs": [],
   "source": [
    "dataset.fit(data1.user.unique(), data1.work.unique())"
   ]
  },
  {
   "cell_type": "code",
   "execution_count": 41,
   "metadata": {},
   "outputs": [
    {
     "name": "stdout",
     "output_type": "stream",
     "text": [
      "Num users: 25973, num_items 319214.\n"
     ]
    }
   ],
   "source": [
    "num_users, num_items = dataset.interactions_shape()\n",
    "print('Num users: {}, num_items {}.'.format(num_users, num_items))"
   ]
  },
  {
   "cell_type": "code",
   "execution_count": 42,
   "metadata": {},
   "outputs": [],
   "source": [
    "interactions, weights = dataset.build_interactions([tuple(i) for i in data1[['user','work','stars']].values])"
   ]
  },
  {
   "cell_type": "code",
   "execution_count": null,
   "metadata": {},
   "outputs": [],
   "source": []
  }
 ],
 "metadata": {
  "kernelspec": {
   "display_name": "Python 3",
   "language": "python",
   "name": "python3"
  },
  "language_info": {
   "codemirror_mode": {
    "name": "ipython",
    "version": 3
   },
   "file_extension": ".py",
   "mimetype": "text/x-python",
   "name": "python",
   "nbconvert_exporter": "python",
   "pygments_lexer": "ipython3",
   "version": "3.7.6"
  }
 },
 "nbformat": 4,
 "nbformat_minor": 4
}
